{
 "cells": [
  {
   "cell_type": "code",
   "execution_count": 1,
   "id": "6e4c5343-3b7c-4f6a-b61c-2baf266aa5fb",
   "metadata": {},
   "outputs": [],
   "source": [
    "# Ans 1. Python programming language was developed by Guido Van Rossum."
   ]
  },
  {
   "cell_type": "code",
   "execution_count": 2,
   "id": "3c3d8b76-d472-4221-8861-80b539f650f3",
   "metadata": {},
   "outputs": [],
   "source": [
    "# Ans 2. Python is a multi-paradigm programming, language It supports object-oriented,structured, procedural and functional progrmming."
   ]
  },
  {
   "cell_type": "code",
   "execution_count": 3,
   "id": "2c8ef8a9-db45-42d9-aec2-ae39918b3679",
   "metadata": {},
   "outputs": [],
   "source": [
    "# Ans 3. Yes python is a case sensitive while dealing with identifiers."
   ]
  },
  {
   "cell_type": "code",
   "execution_count": 4,
   "id": "113e5f84-8de5-41cf-b254-1c5c60202fd2",
   "metadata": {},
   "outputs": [],
   "source": [
    "# Ans 4. the correct extension of the python file is .py"
   ]
  },
  {
   "cell_type": "code",
   "execution_count": 5,
   "id": "4a1b1373-190d-4a3a-8214-dd754fd77216",
   "metadata": {},
   "outputs": [],
   "source": [
    "# Ans 5. Pythone code is interpreted."
   ]
  },
  {
   "cell_type": "code",
   "execution_count": 6,
   "id": "37ebced4-70e2-4cea-85ac-725a9ce5661f",
   "metadata": {},
   "outputs": [],
   "source": [
    "# Ans 6. Blocks of code used to define in python language are a module, a function body, and a class definition."
   ]
  },
  {
   "cell_type": "code",
   "execution_count": 7,
   "id": "7f976720-3995-404e-9b3f-c6173905f407",
   "metadata": {},
   "outputs": [],
   "source": [
    "# Ans 7. character used to give single-line comment in python is # ."
   ]
  },
  {
   "cell_type": "code",
   "execution_count": 8,
   "id": "a324e17e-d656-4248-81c2-2a1ac7077f85",
   "metadata": {},
   "outputs": [],
   "source": [
    "# Ans 8. The functions that help us to find the version of python we are currently working is sys.version."
   ]
  },
  {
   "cell_type": "code",
   "execution_count": 9,
   "id": "1acf53be-809d-408f-9d7e-bd0892b1e6f9",
   "metadata": {},
   "outputs": [],
   "source": [
    "# Ans 9. Python supports the creation of anonymous functions at runtime, using a construct called Lambda functions."
   ]
  },
  {
   "cell_type": "code",
   "execution_count": 10,
   "id": "09bfa7f7-e366-4afb-ae2e-cba9a007cc45",
   "metadata": {},
   "outputs": [],
   "source": [
    "# Ans10. PIP stands for Pip install Packages. Alternately, Pip stand for preferred installer program.\n"
   ]
  },
  {
   "cell_type": "code",
   "execution_count": 11,
   "id": "eb6ec5d5-8b88-49ac-840d-131239cc3fe6",
   "metadata": {},
   "outputs": [],
   "source": [
    "# Ans 11. Few built in functions in python are dict() , len() , replace() , remove() , set() , etc."
   ]
  },
  {
   "cell_type": "code",
   "execution_count": 12,
   "id": "dff66819-5509-45ea-8cdd-b6fbd80a543c",
   "metadata": {},
   "outputs": [],
   "source": [
    "# Ans 12. Maximum possible length of an identifier in python is unlimited."
   ]
  },
  {
   "cell_type": "code",
   "execution_count": 13,
   "id": "b957c0cb-e534-4a41-bfb4-6dc25f4c06cb",
   "metadata": {},
   "outputs": [],
   "source": [
    "# Ans 13. Benefits of python are Data-science industries , Game development , Finance and trading etc."
   ]
  },
  {
   "cell_type": "code",
   "execution_count": 14,
   "id": "06006c4e-9760-4020-bba7-c5b614fb0520",
   "metadata": {},
   "outputs": [],
   "source": [
    "# Ans 14. Memory in python is managed using dynamic memory allocation which is managed by the Heap data structure"
   ]
  },
  {
   "cell_type": "code",
   "execution_count": 15,
   "id": "fb19c049-18e6-4f55-9e03-e7230d10daca",
   "metadata": {},
   "outputs": [],
   "source": [
    "# Ans 15. To install python in windows First Download the Python Installer binaries.,then Run the Executable Installer, Then Add Python to environmental variables., then Verify the Python Installation."
   ]
  },
  {
   "cell_type": "code",
   "execution_count": 16,
   "id": "d257dac9-2214-44e9-b13b-c09516f96842",
   "metadata": {},
   "outputs": [],
   "source": [
    "# Ans 16. Yes Identification is required in python. It is used to define code blocks and block statements"
   ]
  },
  {
   "cell_type": "code",
   "execution_count": null,
   "id": "281cfe44-11c8-482f-9dba-98d261f1044f",
   "metadata": {},
   "outputs": [],
   "source": []
  }
 ],
 "metadata": {
  "kernelspec": {
   "display_name": "Python 3 (ipykernel)",
   "language": "python",
   "name": "python3"
  },
  "language_info": {
   "codemirror_mode": {
    "name": "ipython",
    "version": 3
   },
   "file_extension": ".py",
   "mimetype": "text/x-python",
   "name": "python",
   "nbconvert_exporter": "python",
   "pygments_lexer": "ipython3",
   "version": "3.10.8"
  }
 },
 "nbformat": 4,
 "nbformat_minor": 5
}
